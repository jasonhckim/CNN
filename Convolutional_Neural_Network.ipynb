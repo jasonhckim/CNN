{
  "nbformat": 4,
  "nbformat_minor": 0,
  "metadata": {
    "colab": {
      "name": "Convolutional_Neural_Network",
      "provenance": [],
      "mount_file_id": "1Pk_JosZXKSmpr6Huusvrq4kdFUEFxD4U",
      "authorship_tag": "ABX9TyOMLRtBYZ//DbXxV424kBCV",
      "include_colab_link": true
    },
    "kernelspec": {
      "name": "python3",
      "display_name": "Python 3"
    },
    "language_info": {
      "name": "python"
    }
  },
  "cells": [
    {
      "cell_type": "markdown",
      "metadata": {
        "id": "view-in-github",
        "colab_type": "text"
      },
      "source": [
        "<a href=\"https://colab.research.google.com/github/jasonhckim/CNN/blob/main/Convolutional_Neural_Network.ipynb\" target=\"_parent\"><img src=\"https://colab.research.google.com/assets/colab-badge.svg\" alt=\"Open In Colab\"/></a>"
      ]
    },
    {
      "cell_type": "code",
      "execution_count": 1,
      "metadata": {
        "id": "Cj9MU0TpVla0"
      },
      "outputs": [],
      "source": [
        "#importing the libraries\n",
        "import tensorflow as tf\n",
        "from keras.preprocessing.image import ImageDataGenerator"
      ]
    },
    {
      "cell_type": "code",
      "source": [
        "#specifying the tensorflow version\n",
        "tf.__version__"
      ],
      "metadata": {
        "colab": {
          "base_uri": "https://localhost:8080/",
          "height": 35
        },
        "id": "Ewgnjz5kWIju",
        "outputId": "25b320b0-505e-42b2-9acc-f069f8675a53"
      },
      "execution_count": 2,
      "outputs": [
        {
          "output_type": "execute_result",
          "data": {
            "application/vnd.google.colaboratory.intrinsic+json": {
              "type": "string"
            },
            "text/plain": [
              "'2.8.0'"
            ]
          },
          "metadata": {},
          "execution_count": 2
        }
      ]
    },
    {
      "cell_type": "code",
      "source": [
        "#testing for gpu\n",
        "import tensorflow as tf\n",
        "tf.test.gpu_device_name()"
      ],
      "metadata": {
        "colab": {
          "base_uri": "https://localhost:8080/",
          "height": 35
        },
        "id": "Loo1QahVWUmU",
        "outputId": "34e5979c-615b-4cbd-8018-07b0be6640e7"
      },
      "execution_count": 3,
      "outputs": [
        {
          "output_type": "execute_result",
          "data": {
            "application/vnd.google.colaboratory.intrinsic+json": {
              "type": "string"
            },
            "text/plain": [
              "''"
            ]
          },
          "metadata": {},
          "execution_count": 3
        }
      ]
    },
    {
      "cell_type": "code",
      "source": [
        "#mounting google drive locally \n",
        "from google.colab import drive\n",
        "drive.mount('/content/data')"
      ],
      "metadata": {
        "colab": {
          "base_uri": "https://localhost:8080/"
        },
        "id": "GPboFWxlWUjg",
        "outputId": "c289bf62-dce4-4b7d-fc65-2628ccffdea7"
      },
      "execution_count": 4,
      "outputs": [
        {
          "output_type": "stream",
          "name": "stdout",
          "text": [
            "Mounted at /content/data\n"
          ]
        }
      ]
    },
    {
      "cell_type": "code",
      "source": [
        "import os\n",
        "os.chdir('/content/data/MyDrive/Colab Notebooks/Image file')"
      ],
      "metadata": {
        "id": "QgkUV_lqWUaF"
      },
      "execution_count": 5,
      "outputs": []
    },
    {
      "cell_type": "code",
      "source": [
        "# Data Preprocessing\n",
        "#preprocessing the training set\n",
        "train_datagen = ImageDataGenerator(rescale = 1./255,\n",
        "                                   shear_range = 0.2,\n",
        "                                   zoom_range = 0.2,\n",
        "                                   horizontal_flip= True)\n",
        "training_set = train_datagen.flow_from_directory('/content/data/MyDrive/Colab Notebooks/Image file/training_set',\n",
        "                                                 target_size = (64, 64),\n",
        "                                                 batch_size = 32,\n",
        "                                                 class_mode = 'binary')"
      ],
      "metadata": {
        "colab": {
          "base_uri": "https://localhost:8080/"
        },
        "id": "F9oioHMxatdw",
        "outputId": "72c7b60d-0516-4b4c-e0e8-b0222f927619"
      },
      "execution_count": 6,
      "outputs": [
        {
          "output_type": "stream",
          "name": "stdout",
          "text": [
            "Found 4000 images belonging to 2 classes.\n"
          ]
        }
      ]
    },
    {
      "cell_type": "code",
      "source": [
        "#preprocessing the test set\n",
        "test_datagen = ImageDataGenerator(rescale = 1./255)\n",
        "test_set = test_datagen.flow_from_directory('/content/data/MyDrive/Colab Notebooks/Image file/test_set',\n",
        "                                            target_size = (64, 64),\n",
        "                                            batch_size = 32,\n",
        "                                            class_mode = 'binary')"
      ],
      "metadata": {
        "colab": {
          "base_uri": "https://localhost:8080/"
        },
        "id": "whxI2faNatRE",
        "outputId": "c9eeeb52-b9bd-4c31-8c30-7aefeca10c43"
      },
      "execution_count": 7,
      "outputs": [
        {
          "output_type": "stream",
          "name": "stdout",
          "text": [
            "Found 1000 images belonging to 2 classes.\n"
          ]
        }
      ]
    },
    {
      "cell_type": "code",
      "source": [
        "## Building the CNN\n",
        "# Initialising the CNN\n",
        "cnn = tf.keras.models.Sequential()"
      ],
      "metadata": {
        "id": "_GpoqaVhb_n5"
      },
      "execution_count": 10,
      "outputs": []
    },
    {
      "cell_type": "code",
      "source": [
        "# Convolution\n",
        "cnn.add(tf.keras.layers.Conv2D(filters=32, kernel_size=3, activation='relu', input_shape=[64, 64, 3]))"
      ],
      "metadata": {
        "id": "lbyTC9YlnOi4"
      },
      "execution_count": 12,
      "outputs": []
    },
    {
      "cell_type": "code",
      "source": [
        "#Pooling\n",
        "cnn.add(tf.keras.layers.MaxPool2D(pool_size=2, strides=2))"
      ],
      "metadata": {
        "id": "F5p7oMGAnZ6o"
      },
      "execution_count": 13,
      "outputs": []
    },
    {
      "cell_type": "code",
      "source": [
        "#adding a second convolutional layer\n",
        "cnn.add(tf.keras.layers.Conv2D(filters=32, kernel_size=3, activation='relu'))\n",
        "cnn.add(tf.keras.layers.MaxPool2D(pool_size=2, strides=2))"
      ],
      "metadata": {
        "id": "hFYPa9ringfz"
      },
      "execution_count": 15,
      "outputs": []
    },
    {
      "cell_type": "code",
      "source": [
        "#Flattening\n",
        "cnn.add(tf.keras.layers.Flatten())"
      ],
      "metadata": {
        "id": "3cDF2a5pntT5"
      },
      "execution_count": 16,
      "outputs": []
    },
    {
      "cell_type": "code",
      "source": [
        "# Full Connection\n",
        "cnn.add(tf.keras.layers.Dense(units=128, activation='relu'))"
      ],
      "metadata": {
        "id": "Y_U_nVMdn45p"
      },
      "execution_count": 17,
      "outputs": []
    },
    {
      "cell_type": "code",
      "source": [
        "#Output layer\n",
        "cnn.add(tf.keras.layers.Dense(units=1, activation='sigmoid'))"
      ],
      "metadata": {
        "id": "wbt1e13boBjx"
      },
      "execution_count": 18,
      "outputs": []
    },
    {
      "cell_type": "code",
      "source": [
        "#Model Summary\n",
        "cnn.summary()"
      ],
      "metadata": {
        "colab": {
          "base_uri": "https://localhost:8080/"
        },
        "id": "04Ri-zbBoHgf",
        "outputId": "0f06bcc2-f7f4-42b0-f714-b1d542e777c8"
      },
      "execution_count": 19,
      "outputs": [
        {
          "output_type": "stream",
          "name": "stdout",
          "text": [
            "Model: \"sequential_2\"\n",
            "_________________________________________________________________\n",
            " Layer (type)                Output Shape              Param #   \n",
            "=================================================================\n",
            " conv2d (Conv2D)             (None, 62, 62, 32)        896       \n",
            "                                                                 \n",
            " conv2d_1 (Conv2D)           (None, 60, 60, 32)        9248      \n",
            "                                                                 \n",
            " max_pooling2d (MaxPooling2D  (None, 30, 30, 32)       0         \n",
            " )                                                               \n",
            "                                                                 \n",
            " conv2d_2 (Conv2D)           (None, 28, 28, 32)        9248      \n",
            "                                                                 \n",
            " conv2d_3 (Conv2D)           (None, 26, 26, 32)        9248      \n",
            "                                                                 \n",
            " max_pooling2d_1 (MaxPooling  (None, 13, 13, 32)       0         \n",
            " 2D)                                                             \n",
            "                                                                 \n",
            " flatten (Flatten)           (None, 5408)              0         \n",
            "                                                                 \n",
            " dense (Dense)               (None, 128)               692352    \n",
            "                                                                 \n",
            " dense_1 (Dense)             (None, 1)                 129       \n",
            "                                                                 \n",
            "=================================================================\n",
            "Total params: 721,121\n",
            "Trainable params: 721,121\n",
            "Non-trainable params: 0\n",
            "_________________________________________________________________\n"
          ]
        }
      ]
    },
    {
      "cell_type": "code",
      "source": [
        "#Training the CNN\n",
        "#Compiling the CNN\n",
        "cnn.compile(optimizer = 'adam', loss = 'binary_crossentropy', metrics = ['accuracy'])"
      ],
      "metadata": {
        "id": "HM-Ph0iToJNJ"
      },
      "execution_count": 20,
      "outputs": []
    },
    {
      "cell_type": "code",
      "source": [
        "#Training the CNN on the training set and evaluating it on the Test Set\n",
        "cnn.fit(x = training_set, validation_data= test_set, epochs = 25)"
      ],
      "metadata": {
        "colab": {
          "base_uri": "https://localhost:8080/"
        },
        "id": "q5FQkfJCoUJ0",
        "outputId": "8d8d283f-ecc1-450c-ae78-3e961edcfc0c"
      },
      "execution_count": 21,
      "outputs": [
        {
          "output_type": "stream",
          "name": "stdout",
          "text": [
            "Epoch 1/25\n",
            "125/125 [==============================] - 1290s 10s/step - loss: 0.6929 - accuracy: 0.5300 - val_loss: 0.6735 - val_accuracy: 0.5730\n",
            "Epoch 2/25\n",
            "125/125 [==============================] - 74s 591ms/step - loss: 0.6711 - accuracy: 0.6030 - val_loss: 0.6411 - val_accuracy: 0.6590\n",
            "Epoch 3/25\n",
            "125/125 [==============================] - 74s 588ms/step - loss: 0.6610 - accuracy: 0.6090 - val_loss: 0.6208 - val_accuracy: 0.6530\n",
            "Epoch 4/25\n",
            "125/125 [==============================] - 74s 589ms/step - loss: 0.6284 - accuracy: 0.6568 - val_loss: 0.6281 - val_accuracy: 0.6350\n",
            "Epoch 5/25\n",
            "125/125 [==============================] - 74s 587ms/step - loss: 0.5936 - accuracy: 0.6862 - val_loss: 0.5799 - val_accuracy: 0.7050\n",
            "Epoch 6/25\n",
            "125/125 [==============================] - 74s 591ms/step - loss: 0.5689 - accuracy: 0.7007 - val_loss: 0.5247 - val_accuracy: 0.7550\n",
            "Epoch 7/25\n",
            "125/125 [==============================] - 74s 593ms/step - loss: 0.5315 - accuracy: 0.7347 - val_loss: 0.5478 - val_accuracy: 0.7250\n",
            "Epoch 8/25\n",
            "125/125 [==============================] - 74s 588ms/step - loss: 0.5171 - accuracy: 0.7405 - val_loss: 0.5172 - val_accuracy: 0.7450\n",
            "Epoch 9/25\n",
            "125/125 [==============================] - 74s 588ms/step - loss: 0.5047 - accuracy: 0.7538 - val_loss: 0.5094 - val_accuracy: 0.7590\n",
            "Epoch 10/25\n",
            "125/125 [==============================] - 74s 590ms/step - loss: 0.4708 - accuracy: 0.7713 - val_loss: 0.4867 - val_accuracy: 0.7780\n",
            "Epoch 11/25\n",
            "125/125 [==============================] - 75s 598ms/step - loss: 0.4639 - accuracy: 0.7750 - val_loss: 0.5003 - val_accuracy: 0.7740\n",
            "Epoch 12/25\n",
            "125/125 [==============================] - 74s 587ms/step - loss: 0.4445 - accuracy: 0.7918 - val_loss: 0.5015 - val_accuracy: 0.7710\n",
            "Epoch 13/25\n",
            "125/125 [==============================] - 74s 588ms/step - loss: 0.4404 - accuracy: 0.7885 - val_loss: 0.4859 - val_accuracy: 0.7650\n",
            "Epoch 14/25\n",
            "125/125 [==============================] - 74s 590ms/step - loss: 0.4121 - accuracy: 0.8117 - val_loss: 0.5225 - val_accuracy: 0.7710\n",
            "Epoch 15/25\n",
            "125/125 [==============================] - 75s 597ms/step - loss: 0.3922 - accuracy: 0.8200 - val_loss: 0.5312 - val_accuracy: 0.7470\n",
            "Epoch 16/25\n",
            "125/125 [==============================] - 74s 594ms/step - loss: 0.3832 - accuracy: 0.8183 - val_loss: 0.4595 - val_accuracy: 0.7840\n",
            "Epoch 17/25\n",
            "125/125 [==============================] - 74s 592ms/step - loss: 0.3790 - accuracy: 0.8253 - val_loss: 0.4732 - val_accuracy: 0.7790\n",
            "Epoch 18/25\n",
            "125/125 [==============================] - 75s 596ms/step - loss: 0.3414 - accuracy: 0.8525 - val_loss: 0.4637 - val_accuracy: 0.7980\n",
            "Epoch 19/25\n",
            "125/125 [==============================] - 74s 594ms/step - loss: 0.3354 - accuracy: 0.8543 - val_loss: 0.4657 - val_accuracy: 0.7930\n",
            "Epoch 20/25\n",
            "125/125 [==============================] - 77s 613ms/step - loss: 0.3205 - accuracy: 0.8587 - val_loss: 0.5281 - val_accuracy: 0.7810\n",
            "Epoch 21/25\n",
            "125/125 [==============================] - 75s 602ms/step - loss: 0.3047 - accuracy: 0.8655 - val_loss: 0.5149 - val_accuracy: 0.7590\n",
            "Epoch 22/25\n",
            "125/125 [==============================] - 75s 598ms/step - loss: 0.3030 - accuracy: 0.8645 - val_loss: 0.4916 - val_accuracy: 0.7990\n",
            "Epoch 23/25\n",
            "125/125 [==============================] - 75s 596ms/step - loss: 0.2671 - accuracy: 0.8870 - val_loss: 0.5094 - val_accuracy: 0.8010\n",
            "Epoch 24/25\n",
            "125/125 [==============================] - 75s 602ms/step - loss: 0.2600 - accuracy: 0.8832 - val_loss: 0.5338 - val_accuracy: 0.7870\n",
            "Epoch 25/25\n",
            "125/125 [==============================] - 75s 599ms/step - loss: 0.2563 - accuracy: 0.8935 - val_loss: 0.4888 - val_accuracy: 0.7980\n"
          ]
        },
        {
          "output_type": "execute_result",
          "data": {
            "text/plain": [
              "<keras.callbacks.History at 0x7f7df4203410>"
            ]
          },
          "metadata": {},
          "execution_count": 21
        }
      ]
    },
    {
      "cell_type": "code",
      "source": [
        "import numpy as np\n",
        "from keras.preprocessing import image\n",
        "test_image = image.load_img('/content/data/MyDrive/Colab Notebooks/Image file/single_prediction/cat_or_dog_1.jpg', target_size = (64, 64))\n",
        "test_image = image.img_to_array(test_image)\n",
        "test_image = np.expand_dims(test_image, axis = 0)\n",
        "result = cnn.predict(test_image)\n",
        "training_set.class_indices\n",
        "if result[0][0] == 1:\n",
        "    prediction = 'dog'\n",
        "else:\n",
        "    prediction = 'cat'"
      ],
      "metadata": {
        "id": "giwIqugUocP_"
      },
      "execution_count": 26,
      "outputs": []
    },
    {
      "cell_type": "code",
      "source": [
        "print(prediction)"
      ],
      "metadata": {
        "colab": {
          "base_uri": "https://localhost:8080/"
        },
        "id": "2bk8n-xupOYR",
        "outputId": "94c77655-8820-4b1d-fc23-2e2cb2289a15"
      },
      "execution_count": 27,
      "outputs": [
        {
          "output_type": "stream",
          "name": "stdout",
          "text": [
            "dog\n"
          ]
        }
      ]
    }
  ]
}